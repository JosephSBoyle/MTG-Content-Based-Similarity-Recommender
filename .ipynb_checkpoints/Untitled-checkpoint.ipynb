{
 "cells": [
  {
   "cell_type": "code",
   "execution_count": 1,
   "id": "fa5ab51b",
   "metadata": {},
   "outputs": [],
   "source": [
    "import numpy as np\n",
    "import json\n",
    "import re"
   ]
  },
  {
   "cell_type": "code",
   "execution_count": 2,
   "id": "bf955a9f",
   "metadata": {},
   "outputs": [],
   "source": [
    "input_json = json.load(open(\"data/default-cards-20210417090311.json\", encoding='utf-8'))"
   ]
  },
  {
   "cell_type": "code",
   "execution_count": 9,
   "id": "f10a67b9",
   "metadata": {
    "scrolled": true
   },
   "outputs": [
    {
     "name": "stdout",
     "output_type": "stream",
     "text": [
      "['fury', 'sliver'] \n",
      "\n",
      "['sliver', 'creatures', 'double', 'strike'] \n",
      "\n",
      "['rift', 'opened', 'arrows', 'abruptly', 'stilled', 'move', 'push', 'world', 'slivers', 'claw', 'still', 'twitched', 'red', 'wounds', 'appeared', 'theds', 'chest', 'ribbons', 'blood', 'hung', 'air adom', 'capashen', 'benalish', 'hero'] \n",
      "\n",
      "['kor', 'outfitter'] \n",
      "\n",
      "['kor', 'outfitter', 'enters', 'battlefield', 'may', 'attach', 'target', 'equipment', 'control', 'target', 'creature', 'control'] \n",
      "\n",
      "['take', 'need', 'survive', 'believe', 'need'] \n",
      "\n",
      "['spirit'] \n",
      "\n",
      "['flying'] \n",
      "\n",
      "['siren', 'lookout'] \n",
      "\n",
      "['flying when', 'siren', 'lookout', 'enters', 'battlefield', 'explores', 'reveal', 'top', 'card', 'library', 'put', 'card', 'hand', 'land', 'otherwise', 'put', 'counter', 'creature', 'put', 'card', 'back', 'put', 'graveyard'] \n",
      "\n",
      "['web'] \n",
      "\n",
      "['enchant', 'creature', 'target', 'creature', 'cast', 'card', 'enters', 'battlefield', 'attached', 'creature enchanted', 'creature', 'gets', 'reach', 'block', 'creatures', 'flying'] \n",
      "\n",
      "['venerable', 'knight'] \n",
      "\n",
      "['venerable', 'knight', 'dies', 'put', 'counter', 'target', 'knight', 'control'] \n",
      "\n",
      "['may', 'blade', 'guide', 'great', 'journey', 'mine'] \n",
      "\n",
      "['wildcall'] \n",
      "\n",
      "['manifest', 'top', 'card', 'library', 'put', 'counters', 'manifest', 'card', 'put', 'onto', 'battlefield', 'face', 'creature', 'turn', 'face', 'time', 'mana', 'cost', 'creature', 'card'] \n",
      "\n",
      "['howl', 'wind', 'hides', 'many', 'dangers'] \n",
      "\n",
      "['mystic', 'skyfish'] \n",
      "\n",
      "['whenever', 'draw', 'second', 'card', 'turn', 'mystic', 'skyfish', 'gains', 'flying', 'end', 'turn'] \n",
      "\n",
      "['problem', 'wasnt', 'fish', 'learned', 'fly', 'sharks', 'adapted', 'follow'] \n",
      "\n",
      "['swamp'] \n",
      "\n",
      "['add'] \n",
      "\n",
      "['swamp'] \n",
      "\n",
      "['add'] \n",
      "\n"
     ]
    }
   ],
   "source": [
    "sentences = []\n",
    "fields = ('name', 'oracle_text', 'flavor_text')\n",
    "for card in input_json[:10]:\n",
    "    for f in fields:\n",
    "        if f in card.keys():\n",
    "            sentence = card[f].split(\" \")\n",
    "            sentence = preprocess_sentence(sentence)\n",
    "            sentences.append(sentence)\n",
    "            \n",
    "    \n",
    "#     sentence = \" \".join((card['name'], card['oracle_text'], card['type_line'], card['flavor_text'] if 'flavor_text' in card.keys() else \"\"))\n",
    "    \n",
    "#     sentence = sentence.split(\" \")\n",
    "#     sentence = preprocess_sentence(sentence)\n",
    "            print(sentence, \"\\n\")   \n",
    "    "
   ]
  },
  {
   "cell_type": "code",
   "execution_count": 4,
   "id": "34a56fda",
   "metadata": {},
   "outputs": [],
   "source": [
    "stopwords = {\"i\", \"me\", \"my\", \"myself\", \"we\", \"our\", \"ours\", \"ourselves\", \"you\", \"your\", \"yours\", \"yourself\",\n",
    "             \"yourselves\", \"he\", \"him\", \"his\", \"himself\", \"she\", \"her\", \"hers\", \"herself\", \"it\", \"its\", \"itself\",\n",
    "             \"they\", \"them\", \"their\", \"theirs\", \"themselves\", \"what\", \"which\", \"who\", \"whom\", \"this\", \"that\", \"these\",\n",
    "             \"those\", \"am\", \"is\", \"are\", \"was\", \"were\", \"be\", \"been\", \"being\", \"have\", \"has\", \"had\", \"having\", \"do\",\n",
    "             \"does\", \"did\", \"doing\", \"a\", \"an\", \"the\", \"and\", \"but\", \"if\", \"or\", \"because\", \"as\", \"until\", \"while\",\n",
    "             \"of\", \"at\", \"by\", \"for\", \"with\", \"about\", \"against\", \"between\", \"into\", \"through\", \"during\", \"before\",\n",
    "             \"after\", \"above\", \"below\", \"to\", \"from\", \"up\", \"down\", \"in\", \"out\", \"on\", \"off\", \"over\", \"under\", \"again\",\n",
    "             \"further\", \"then\", \"once\", \"here\", \"there\", \"when\", \"where\", \"why\", \"how\", \"all\", \"any\", \"both\", \"each\",\n",
    "             \"few\", \"more\", \"most\", \"other\", \"some\", \"such\", \"no\", \"nor\", \"not\", \"only\", \"own\", \"same\", \"so\", \"than\",\n",
    "             \"too\", \"very\", \"s\", \"t\", \"can\", \"will\", \"just\", \"don\", \"should\", \"now\"}\n",
    "\n",
    "def preprocess_sentence(sentence):\n",
    "    punc_stripped = [re.sub(r'[^\\w\\s]', '', j.lower().strip(\"\\n\").replace(\"\\n\", \" \")) for j in sentence]\n",
    "\n",
    "    return [word for word in punc_stripped if word not in stopwords and len(word) > 2] "
   ]
  },
  {
   "cell_type": "code",
   "execution_count": 6,
   "id": "d4d21cd3",
   "metadata": {},
   "outputs": [
    {
     "ename": "ModuleNotFoundError",
     "evalue": "No module named 'gensim'",
     "output_type": "error",
     "traceback": [
      "\u001b[1;31m---------------------------------------------------------------------------\u001b[0m",
      "\u001b[1;31mModuleNotFoundError\u001b[0m                       Traceback (most recent call last)",
      "\u001b[1;32m<ipython-input-6-e70e92d32c6e>\u001b[0m in \u001b[0;36m<module>\u001b[1;34m\u001b[0m\n\u001b[1;32m----> 1\u001b[1;33m \u001b[1;32mimport\u001b[0m \u001b[0mgensim\u001b[0m\u001b[1;33m\u001b[0m\u001b[1;33m\u001b[0m\u001b[0m\n\u001b[0m",
      "\u001b[1;31mModuleNotFoundError\u001b[0m: No module named 'gensim'"
     ]
    }
   ],
   "source": []
  },
  {
   "cell_type": "code",
   "execution_count": null,
   "id": "30eeb11d",
   "metadata": {},
   "outputs": [],
   "source": []
  }
 ],
 "metadata": {
  "kernelspec": {
   "display_name": "Python 3",
   "language": "python",
   "name": "python3"
  },
  "language_info": {
   "codemirror_mode": {
    "name": "ipython",
    "version": 3
   },
   "file_extension": ".py",
   "mimetype": "text/x-python",
   "name": "python",
   "nbconvert_exporter": "python",
   "pygments_lexer": "ipython3",
   "version": "3.8.5"
  }
 },
 "nbformat": 4,
 "nbformat_minor": 5
}
